{
 "cells": [
  {
   "cell_type": "code",
   "execution_count": 1,
   "metadata": {},
   "outputs": [
    {
     "name": "stderr",
     "output_type": "stream",
     "text": [
      "/root/miniforge3/envs/minhua_vllm/lib/python3.10/site-packages/tqdm/auto.py:21: TqdmWarning: IProgress not found. Please update jupyter and ipywidgets. See https://ipywidgets.readthedocs.io/en/stable/user_install.html\n",
      "  from .autonotebook import tqdm as notebook_tqdm\n"
     ]
    }
   ],
   "source": [
    "import argparse\n",
    "from datasets import load_dataset, Dataset, load_from_disk"
   ]
  },
  {
   "cell_type": "code",
   "execution_count": 35,
   "metadata": {},
   "outputs": [],
   "source": [
    "parser = argparse.ArgumentParser(description=\"Preprocess PokerBench for GRPO training\")\n",
    "parser.add_argument(\"--output_dataset\", type=str, default=\"processed-poker-gto\", \n",
    "                    help=\"Name of the output dataset on the Hub\")\n",
    "args = parser.parse_args([])\n",
    "\n",
    "# Load the dataset\n",
    "\n",
    "dataset = load_from_disk(\"/workdir/saved-datasets/PokerBench-Modified\")\n",
    "\n",
    "# # Process the dataset\n",
    "# processed_dataset = dataset.map(\n",
    "#     format_poker_data,\n",
    "#     num_proc=8,\n",
    "#     remove_columns=dataset[\"train\"].column_names  # Remove original columns\n",
    "# )\n",
    "\n",
    "# # Push to the Hub\n",
    "# processed_dataset.push_to_hub(args.output_dataset)\n",
    "# print(f\"Preprocessed dataset pushed to: {args.output_dataset}\")"
   ]
  },
  {
   "cell_type": "code",
   "execution_count": 38,
   "metadata": {},
   "outputs": [
    {
     "name": "stdout",
     "output_type": "stream",
     "text": [
      "Dataset sample:\n",
      "\n",
      "Example 1:\n",
      "Instruction: \n",
      "\n",
      "You are a specialist in playing 6-handed No Limit Texas Holdem. The following will be a game scenario and you need to make the optimal decision.\n",
      "\n",
      "Here is a game summary:\n",
      "\n",
      "The small blind is 0.5 chips and the big blind is 1 chips. Everyone started with 100 chips.\n",
      "The player positions involved in this game are UTG, HJ, CO, BTN, SB, BB.\n",
      "In this hand, your position is HJ, and your holding is [King of Diamond and Jack of Spade].\n",
      "Before the flop, HJ raise 2.0 chips, and BB call. Assume that all other players that is not mentioned folded.\n",
      "The flop comes King Of Spade, Seven Of Heart, and Two Of Diamond, then BB check, and HJ check.\n",
      "The turn comes Jack Of Club, then BB check, HJ bet 3 chips, BB raise 10 chips, and HJ call.\n",
      "The river comes Seven Of Club, then BB check.\n",
      "\n",
      "\n",
      "Now it is your turn to make a move.\n",
      "To remind you, the current pot size is 24.0 chips, and your holding is [King of Diamond and Jack of Spade].\n",
      "\n",
      "Decide on an action based on the strength of your hand on this board, your position, and actions before you. \n",
      "Your optimal action is:\n",
      "Output: bet 18\n",
      "\n",
      "Example 2:\n",
      "Instruction: \n",
      "\n",
      "You are a specialist in playing 6-handed No Limit Texas Holdem. The following will be a game scenario and you need to make the optimal decision.\n",
      "\n",
      "Here is a game summary:\n",
      "\n",
      "The small blind is 0.5 chips and the big blind is 1 chips. Everyone started with 100 chips.\n",
      "The player positions involved in this game are UTG, HJ, CO, BTN, SB, BB.\n",
      "In this hand, your position is BB, and your holding is [Seven of Diamond and Six of Diamond].\n",
      "Before the flop, BTN raise 2.5 chips, and BB call. Assume that all other players that is not mentioned folded.\n",
      "The flop comes Ten Of Diamond, Six Of Heart, and Four Of Heart, then BB check, and BTN check.\n",
      "The turn comes Eight Of Diamond, then BB check, and BTN bet 4 chips.\n",
      "\n",
      "\n",
      "Now it is your turn to make a move.\n",
      "To remind you, the current pot size is 9.0 chips, and your holding is [Seven of Diamond and Six of Diamond].\n",
      "\n",
      "Decide on an action based on the strength of your hand on this board, your position, and actions before you. \n",
      "Your optimal action is:\n",
      "Output: raise 13\n",
      "\n",
      "Example 3:\n",
      "Instruction: \n",
      "\n",
      "You are a specialist in playing 6-handed No Limit Texas Holdem. The following will be a game scenario and you need to make the optimal decision.\n",
      "\n",
      "Here is a game summary:\n",
      "\n",
      "The small blind is 0.5 chips and the big blind is 1 chips. Everyone started with 100 chips.\n",
      "The player positions involved in this game are UTG, HJ, CO, BTN, SB, BB.\n",
      "In this hand, your position is BTN, and your holding is [Jack of Spade and Jack of Club].\n",
      "Before the flop, UTG raise 2.0 chips, and BTN call. Assume that all other players that is not mentioned folded.\n",
      "The flop comes Queen Of Club, Eight Of Club, and Ace Of Club, then UTG check, and BTN check.\n",
      "The turn comes Three Of Club, then UTG check, BTN bet 6 chips, UTG raise 17 chips, and BTN call.\n",
      "The river comes Queen Of Heart, then UTG check.\n",
      "\n",
      "\n",
      "Now it is your turn to make a move.\n",
      "To remind you, the current pot size is 39.0 chips, and your holding is [Jack of Spade and Jack of Club].\n",
      "\n",
      "Decide on an action based on the strength of your hand on this board, your position, and actions before you. \n",
      "Your optimal action is:\n",
      "Output: check\n",
      "\n",
      "Dataset info:\n",
      "Dataset({\n",
      "    features: ['instruction', 'output'],\n",
      "    num_rows: 563200\n",
      "})\n",
      "Dataset({\n",
      "    features: ['instruction', 'output'],\n",
      "    num_rows: 11000\n",
      "})\n"
     ]
    }
   ],
   "source": [
    "# Display first few examples from the dataset\n",
    "print(\"Dataset sample:\")\n",
    "for i, example in enumerate(dataset['train'].select(range(3))):\n",
    "    print(f\"\\nExample {i+1}:\")\n",
    "    print(\"Instruction:\", example['instruction'])\n",
    "    print(\"Output:\", example['output'])\n",
    "\n",
    "# Display dataset info\n",
    "print(\"\\nDataset info:\")\n",
    "print(dataset['train'])\n",
    "print(dataset['test'])\n",
    "\n"
   ]
  },
  {
   "cell_type": "code",
   "execution_count": 12,
   "metadata": {},
   "outputs": [
    {
     "name": "stderr",
     "output_type": "stream",
     "text": [
      "Saving the dataset (0/2 shards):  48%|████▊     | 270000/563200 [00:00<00:00, 1210901.94 examples/s]"
     ]
    },
    {
     "name": "stderr",
     "output_type": "stream",
     "text": [
      "Saving the dataset (2/2 shards): 100%|██████████| 563200/563200 [00:03<00:00, 165194.40 examples/s] \n",
      "Saving the dataset (1/1 shards): 100%|██████████| 11000/11000 [00:00<00:00, 101254.99 examples/s]"
     ]
    },
    {
     "name": "stdout",
     "output_type": "stream",
     "text": [
      "Modified dataset saved to /workdir/saved-datasets/PokerBench-Modified\n",
      "\n",
      "Verifying changes:\n",
      "\n",
      "Original instruction ends with: 'o not explain your answer.\n",
      "Your optimal action is:'\n",
      "Modified instruction ends with: ', and actions before you. \n",
      "Your optimal action is:'\n",
      "\n",
      "Original instruction ends with: 'o not explain your answer.\n",
      "Your optimal action is:'\n",
      "Modified instruction ends with: ', and actions before you. \n",
      "Your optimal action is:'\n"
     ]
    },
    {
     "name": "stderr",
     "output_type": "stream",
     "text": [
      "\n"
     ]
    }
   ],
   "source": [
    "from datasets import load_from_disk, DatasetDict\n",
    "import os\n",
    "\n",
    "# Load the dataset from local path\n",
    "dataset_path = \"/workdir/saved-datasets/PokerBench\"\n",
    "dataset = load_from_disk(dataset_path)\n",
    "\n",
    "# Function to remove the phrase from each instruction\n",
    "def remove_phrase(example):\n",
    "    # Replace \"Do not explain your answer.\" with an empty string\n",
    "    modified_instruction = example[\"instruction\"].replace(\"Do not explain your answer.\", \"\")\n",
    "    # Return the modified example\n",
    "    return {\"instruction\": modified_instruction, \"output\": example[\"output\"]}\n",
    "\n",
    "# Apply the transformation to all splits in the dataset\n",
    "modified_dataset = DatasetDict()\n",
    "for split in dataset:\n",
    "    modified_dataset[split] = dataset[split].map(\n",
    "        remove_phrase,\n",
    "        desc=f\"Processing {split} split\"\n",
    "    )\n",
    "\n",
    "# Save the entire DatasetDict to disk\n",
    "output_path = \"/workdir/saved-datasets/PokerBench-Modified\"\n",
    "modified_dataset.save_to_disk(output_path)\n",
    "\n",
    "print(f\"Modified dataset saved to {output_path}\")\n",
    "\n",
    "# Optionally, verify the changes\n",
    "print(\"\\nVerifying changes:\")\n",
    "for split in modified_dataset:\n",
    "    original_example = dataset[split][0][\"instruction\"]\n",
    "    modified_example = modified_dataset[split][0][\"instruction\"]\n",
    "    \n",
    "    print(f\"\\nOriginal instruction ends with: '{original_example[-50:]}'\")\n",
    "    print(f\"Modified instruction ends with: '{modified_example[-50:]}'\")"
   ]
  },
  {
   "cell_type": "code",
   "execution_count": 34,
   "metadata": {},
   "outputs": [
    {
     "name": "stderr",
     "output_type": "stream",
     "text": [
      "Loading checkpoint shards: 100%|██████████| 4/4 [00:05<00:00,  1.27s/it]\n"
     ]
    },
    {
     "data": {
      "text/plain": [
       "('/workdir/pretrained-models/DeepSeek-R1-Distill-Qwen-14B/tokenizer_config.json',\n",
       " '/workdir/pretrained-models/DeepSeek-R1-Distill-Qwen-14B/special_tokens_map.json',\n",
       " '/workdir/pretrained-models/DeepSeek-R1-Distill-Qwen-14B/tokenizer.json')"
      ]
     },
     "execution_count": 34,
     "metadata": {},
     "output_type": "execute_result"
    }
   ],
   "source": [
    "from transformers import AutoTokenizer, AutoModelForCausalLM\n",
    "\n",
    "# For models - downloads and caches automatically\n",
    "tokenizer = AutoTokenizer.from_pretrained(\"deepseek-ai/DeepSeek-R1-Distill-Qwen-14B\")\n",
    "model = AutoModelForCausalLM.from_pretrained(\"deepseek-ai/DeepSeek-R1-Distill-Qwen-14B\")\n",
    "\n",
    "\n",
    "# Save model and tokenizer to a specific local path\n",
    "local_model_path = \"/workdir/pretrained-models/DeepSeek-R1-Distill-Qwen-14B\"\n",
    "model.save_pretrained(local_model_path)\n",
    "tokenizer.save_pretrained(local_model_path)\n"
   ]
  },
  {
   "cell_type": "code",
   "execution_count": 31,
   "metadata": {},
   "outputs": [],
   "source": [
    "from transformers import AutoConfig\n",
    "import os\n",
    "\n",
    "# 模型路径\n",
    "model_path = os.path.abspath(\"/workdir/pretrained-models/DeepSeek-R1-Distill-Qwen-7B\")\n",
    "\n",
    "\n",
    "# 加载配置\n",
    "config = AutoConfig.from_pretrained(model_path)"
   ]
  },
  {
   "cell_type": "code",
   "execution_count": 32,
   "metadata": {},
   "outputs": [
    {
     "data": {
      "text/plain": [
       "Qwen2Config {\n",
       "  \"_name_or_path\": \"/workdir/pretrained-models/DeepSeek-R1-Distill-Qwen-7B\",\n",
       "  \"architectures\": [\n",
       "    \"Qwen2ForCausalLM\"\n",
       "  ],\n",
       "  \"attention_dropout\": 0.0,\n",
       "  \"bos_token_id\": 151643,\n",
       "  \"eos_token_id\": 151643,\n",
       "  \"hidden_act\": \"silu\",\n",
       "  \"hidden_size\": 3584,\n",
       "  \"initializer_range\": 0.02,\n",
       "  \"intermediate_size\": 18944,\n",
       "  \"max_position_embeddings\": 131072,\n",
       "  \"max_window_layers\": 28,\n",
       "  \"model_type\": \"qwen2\",\n",
       "  \"num_attention_heads\": 28,\n",
       "  \"num_hidden_layers\": 28,\n",
       "  \"num_key_value_heads\": 4,\n",
       "  \"rms_norm_eps\": 1e-06,\n",
       "  \"rope_scaling\": null,\n",
       "  \"rope_theta\": 10000,\n",
       "  \"sliding_window\": 4096,\n",
       "  \"tie_word_embeddings\": false,\n",
       "  \"torch_dtype\": \"float32\",\n",
       "  \"transformers_version\": \"4.49.0\",\n",
       "  \"use_cache\": true,\n",
       "  \"use_mrope\": false,\n",
       "  \"use_sliding_window\": false,\n",
       "  \"vocab_size\": 152064\n",
       "}"
      ]
     },
     "execution_count": 32,
     "metadata": {},
     "output_type": "execute_result"
    }
   ],
   "source": [
    "config"
   ]
  },
  {
   "cell_type": "code",
   "execution_count": 39,
   "metadata": {},
   "outputs": [
    {
     "name": "stdout",
     "output_type": "stream",
     "text": [
      "原始训练集大小: 563200\n",
      "10% 采样大小: 56320\n"
     ]
    },
    {
     "name": "stderr",
     "output_type": "stream",
     "text": [
      "Saving the dataset (0/1 shards):  37%|███▋      | 21000/56320 [00:00<00:00, 200297.41 examples/s]"
     ]
    },
    {
     "name": "stderr",
     "output_type": "stream",
     "text": [
      "Saving the dataset (1/1 shards): 100%|██████████| 56320/56320 [00:00<00:00, 230623.88 examples/s]\n",
      "Saving the dataset (1/1 shards): 100%|██████████| 11000/11000 [00:00<00:00, 1054977.80 examples/s]"
     ]
    },
    {
     "name": "stdout",
     "output_type": "stream",
     "text": [
      "\n",
      "新数据集信息:\n",
      "训练集大小: 56320\n",
      "测试集大小: 11000\n",
      "\n",
      "新数据集已保存到: /workdir/saved-datasets/PokerBench-Small\n",
      "\n",
      "随机样本验证:\n",
      "\n",
      "示例 1:\n",
      "指令:  \n",
      "\n",
      "You are a specialist in playing 6-handed No Limit Texas Holdem. The following will be a game scena...\n",
      "输出:  fold\n",
      "\n",
      "示例 2:\n",
      "指令:  \n",
      "\n",
      "You are a specialist in playing 6-handed No Limit Texas Holdem. The following will be a game scena...\n",
      "输出:  bet 22\n",
      "\n",
      "示例 3:\n",
      "指令:  \n",
      "\n",
      "You are a specialist in playing 6-handed No Limit Texas Holdem. The following will be a game scena...\n",
      "输出:  raise 10\n"
     ]
    },
    {
     "name": "stderr",
     "output_type": "stream",
     "text": [
      "\n"
     ]
    }
   ],
   "source": [
    "from datasets import load_from_disk, DatasetDict\n",
    "import os\n",
    "import random\n",
    "\n",
    "# 设置随机种子以确保可重复性\n",
    "random.seed(42)\n",
    "\n",
    "# 加载原始数据集\n",
    "dataset_path = \"/workdir/saved-datasets/PokerBench-Modified\"\n",
    "full_dataset = load_from_disk(dataset_path)\n",
    "\n",
    "# 创建一个新的 DatasetDict 来存储精简版数据集\n",
    "small_dataset = DatasetDict()\n",
    "\n",
    "# 计算训练集的 10%\n",
    "train_size = len(full_dataset['train'])\n",
    "sample_size = int(train_size * 0.1)\n",
    "print(f\"原始训练集大小: {train_size}\")\n",
    "print(f\"10% 采样大小: {sample_size}\")\n",
    "\n",
    "# 随机选择 10% 的训练数据\n",
    "train_indices = random.sample(range(train_size), sample_size)\n",
    "small_dataset['train'] = full_dataset['train'].select(train_indices)\n",
    "\n",
    "# 保留完整的测试集\n",
    "small_dataset['test'] = full_dataset['test']\n",
    "\n",
    "# 保存新数据集\n",
    "output_path = \"/workdir/saved-datasets/PokerBench-Small\"\n",
    "small_dataset.save_to_disk(output_path)\n",
    "\n",
    "# 验证新数据集\n",
    "print(\"\\n新数据集信息:\")\n",
    "print(f\"训练集大小: {len(small_dataset['train'])}\")\n",
    "print(f\"测试集大小: {len(small_dataset['test'])}\")\n",
    "\n",
    "print(f\"\\n新数据集已保存到: {output_path}\")\n",
    "\n",
    "# 随机抽样几个示例进行验证\n",
    "print(\"\\n随机样本验证:\")\n",
    "for i, example in enumerate(small_dataset['train'].select(range(3))):\n",
    "    print(f\"\\n示例 {i+1}:\")\n",
    "    print(\"指令: \", example['instruction'][:100] + \"...\" if len(example['instruction']) > 100 else example['instruction'])\n",
    "    print(\"输出: \", example['output'])"
   ]
  },
  {
   "cell_type": "code",
   "execution_count": null,
   "metadata": {},
   "outputs": [],
   "source": [
    "poker_answer_pattern = r\"<answer>\\s*(check|call|fold|bet\\s+\\d+(\\.\\d+)?|raise\\s+\\d+(\\.\\d+)?)\\s*</answer>\"\n"
   ]
  }
 ],
 "metadata": {
  "kernelspec": {
   "display_name": "minhua_vllm",
   "language": "python",
   "name": "python3"
  },
  "language_info": {
   "codemirror_mode": {
    "name": "ipython",
    "version": 3
   },
   "file_extension": ".py",
   "mimetype": "text/x-python",
   "name": "python",
   "nbconvert_exporter": "python",
   "pygments_lexer": "ipython3",
   "version": "3.10.16"
  }
 },
 "nbformat": 4,
 "nbformat_minor": 2
}
