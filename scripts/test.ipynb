{
 "cells": [
  {
   "cell_type": "code",
   "execution_count": 1,
   "metadata": {},
   "outputs": [
    {
     "name": "stderr",
     "output_type": "stream",
     "text": [
      "/opt/conda/envs/minhua_vllm/lib/python3.10/site-packages/tqdm/auto.py:21: TqdmWarning: IProgress not found. Please update jupyter and ipywidgets. See https://ipywidgets.readthedocs.io/en/stable/user_install.html\n",
      "  from .autonotebook import tqdm as notebook_tqdm\n"
     ]
    }
   ],
   "source": [
    "import argparse\n",
    "from datasets import load_dataset, Dataset\n",
    "\n",
    "def format_poker_data(example):\n",
    "    \"\"\"Format PokerBench data for the GRPO trainer.\"\"\"\n",
    "    # Adjust these field names based on the actual structure of the PokerBench dataset\n",
    "    hand_info = example[\"hand_info\"]\n",
    "    player_cards = example[\"player_cards\"]\n",
    "    board_cards = example[\"board_cards\"]\n",
    "    position = example[\"position\"]\n",
    "    action_history = example[\"action_history\"]\n",
    "    gto_decision = example[\"gto_decision\"]\n",
    "    \n",
    "    # Create a structured prompt\n",
    "    prompt = f\"\"\"\n",
    "You are playing Texas Hold'em Poker. Analyze the following situation and make the optimal GTO decision.\n",
    "\n",
    "Hand Information:\n",
    "{hand_info}\n",
    "\n",
    "Your Cards: {player_cards}\n",
    "Board: {board_cards}\n",
    "Your Position: {position}\n",
    "Action History: {action_history}\n",
    "\n",
    "What is the optimal GTO decision in this situation?\n",
    "\"\"\"\n",
    "    \n",
    "    # Format for Open-R1 GRPO trainer\n",
    "    return {\n",
    "        \"instruction\": prompt,\n",
    "        \"response\": gto_decision,\n",
    "    }"
   ]
  },
  {
   "cell_type": "code",
   "execution_count": null,
   "metadata": {},
   "outputs": [],
   "source": [
    "ACCELERATE_LOG_LEVEL=info accelerate launch --config_file recipes/accelerate_configs/zero2.yaml \\\n",
    "    --num_processes=8 src/open_r1/grpo.py \\\n",
    "    --config recipes/DeepSeek-R1-Distill-Qwen-7B/grpo/config_poker.yaml"
   ]
  },
  {
   "cell_type": "code",
   "execution_count": 1,
   "metadata": {},
   "outputs": [
    {
     "ename": "NameError",
     "evalue": "name 'argparse' is not defined",
     "output_type": "error",
     "traceback": [
      "\u001b[0;31m---------------------------------------------------------------------------\u001b[0m",
      "\u001b[0;31mNameError\u001b[0m                                 Traceback (most recent call last)",
      "Cell \u001b[0;32mIn[1], line 1\u001b[0m\n\u001b[0;32m----> 1\u001b[0m parser \u001b[38;5;241m=\u001b[39m \u001b[43margparse\u001b[49m\u001b[38;5;241m.\u001b[39mArgumentParser(description\u001b[38;5;241m=\u001b[39m\u001b[38;5;124m\"\u001b[39m\u001b[38;5;124mPreprocess PokerBench for GRPO training\u001b[39m\u001b[38;5;124m\"\u001b[39m)\n\u001b[1;32m      2\u001b[0m parser\u001b[38;5;241m.\u001b[39madd_argument(\u001b[38;5;124m\"\u001b[39m\u001b[38;5;124m--output_dataset\u001b[39m\u001b[38;5;124m\"\u001b[39m, \u001b[38;5;28mtype\u001b[39m\u001b[38;5;241m=\u001b[39m\u001b[38;5;28mstr\u001b[39m, default\u001b[38;5;241m=\u001b[39m\u001b[38;5;124m\"\u001b[39m\u001b[38;5;124mprocessed-poker-gto\u001b[39m\u001b[38;5;124m\"\u001b[39m, \n\u001b[1;32m      3\u001b[0m                     help\u001b[38;5;241m=\u001b[39m\u001b[38;5;124m\"\u001b[39m\u001b[38;5;124mName of the output dataset on the Hub\u001b[39m\u001b[38;5;124m\"\u001b[39m)\n\u001b[1;32m      4\u001b[0m args \u001b[38;5;241m=\u001b[39m parser\u001b[38;5;241m.\u001b[39mparse_args([])\n",
      "\u001b[0;31mNameError\u001b[0m: name 'argparse' is not defined"
     ]
    }
   ],
   "source": [
    "parser = argparse.ArgumentParser(description=\"Preprocess PokerBench for GRPO training\")\n",
    "parser.add_argument(\"--output_dataset\", type=str, default=\"processed-poker-gto\", \n",
    "                    help=\"Name of the output dataset on the Hub\")\n",
    "args = parser.parse_args([])\n",
    "\n",
    "# Load the dataset\n",
    "\n",
    "dataset = load_dataset(\"RZ412/PokerBench\")\n",
    "\n",
    "# Process the dataset\n",
    "processed_dataset = dataset.map(\n",
    "    format_poker_data,\n",
    "    num_proc=8,\n",
    "    remove_columns=dataset[\"train\"].column_names  # Remove original columns\n",
    ")\n",
    "\n",
    "# Push to the Hub\n",
    "processed_dataset.push_to_hub(args.output_dataset)\n",
    "print(f\"Preprocessed dataset pushed to: {args.output_dataset}\")"
   ]
  },
  {
   "cell_type": "code",
   "execution_count": 11,
   "metadata": {},
   "outputs": [
    {
     "name": "stdout",
     "output_type": "stream",
     "text": [
      "Dataset sample:\n",
      "\n",
      "Example 1:\n",
      "Instruction: \n",
      "\n",
      "You are a specialist in playing 6-handed No Limit Texas Holdem. The following will be a game scenario and you need to make the optimal decision.\n",
      "\n",
      "Here is a game summary:\n",
      "\n",
      "The small blind is 0.5 chips and the big blind is 1 chips. Everyone started with 100 chips.\n",
      "The player positions involved in this game are UTG, HJ, CO, BTN, SB, BB.\n",
      "In this hand, your position is HJ, and your holding is [King of Diamond and Jack of Spade].\n",
      "Before the flop, HJ raise 2.0 chips, and BB call. Assume that all other players that is not mentioned folded.\n",
      "The flop comes King Of Spade, Seven Of Heart, and Two Of Diamond, then BB check, and HJ check.\n",
      "The turn comes Jack Of Club, then BB check, HJ bet 3 chips, BB raise 10 chips, and HJ call.\n",
      "The river comes Seven Of Club, then BB check.\n",
      "\n",
      "\n",
      "Now it is your turn to make a move.\n",
      "To remind you, the current pot size is 24.0 chips, and your holding is [King of Diamond and Jack of Spade].\n",
      "\n",
      "Decide on an action based on the strength of your hand on this board, your position, and actions before you. Do not explain your answer.\n",
      "Your optimal action is:\n",
      "Output: bet 18\n",
      "\n",
      "Example 2:\n",
      "Instruction: \n",
      "\n",
      "You are a specialist in playing 6-handed No Limit Texas Holdem. The following will be a game scenario and you need to make the optimal decision.\n",
      "\n",
      "Here is a game summary:\n",
      "\n",
      "The small blind is 0.5 chips and the big blind is 1 chips. Everyone started with 100 chips.\n",
      "The player positions involved in this game are UTG, HJ, CO, BTN, SB, BB.\n",
      "In this hand, your position is BB, and your holding is [Seven of Diamond and Six of Diamond].\n",
      "Before the flop, BTN raise 2.5 chips, and BB call. Assume that all other players that is not mentioned folded.\n",
      "The flop comes Ten Of Diamond, Six Of Heart, and Four Of Heart, then BB check, and BTN check.\n",
      "The turn comes Eight Of Diamond, then BB check, and BTN bet 4 chips.\n",
      "\n",
      "\n",
      "Now it is your turn to make a move.\n",
      "To remind you, the current pot size is 9.0 chips, and your holding is [Seven of Diamond and Six of Diamond].\n",
      "\n",
      "Decide on an action based on the strength of your hand on this board, your position, and actions before you. Do not explain your answer.\n",
      "Your optimal action is:\n",
      "Output: raise 13\n",
      "\n",
      "Example 3:\n",
      "Instruction: \n",
      "\n",
      "You are a specialist in playing 6-handed No Limit Texas Holdem. The following will be a game scenario and you need to make the optimal decision.\n",
      "\n",
      "Here is a game summary:\n",
      "\n",
      "The small blind is 0.5 chips and the big blind is 1 chips. Everyone started with 100 chips.\n",
      "The player positions involved in this game are UTG, HJ, CO, BTN, SB, BB.\n",
      "In this hand, your position is BTN, and your holding is [Jack of Spade and Jack of Club].\n",
      "Before the flop, UTG raise 2.0 chips, and BTN call. Assume that all other players that is not mentioned folded.\n",
      "The flop comes Queen Of Club, Eight Of Club, and Ace Of Club, then UTG check, and BTN check.\n",
      "The turn comes Three Of Club, then UTG check, BTN bet 6 chips, UTG raise 17 chips, and BTN call.\n",
      "The river comes Queen Of Heart, then UTG check.\n",
      "\n",
      "\n",
      "Now it is your turn to make a move.\n",
      "To remind you, the current pot size is 39.0 chips, and your holding is [Jack of Spade and Jack of Club].\n",
      "\n",
      "Decide on an action based on the strength of your hand on this board, your position, and actions before you. Do not explain your answer.\n",
      "Your optimal action is:\n",
      "Output: check\n",
      "\n",
      "Dataset info:\n",
      "Dataset({\n",
      "    features: ['instruction', 'output'],\n",
      "    num_rows: 563200\n",
      "})\n"
     ]
    }
   ],
   "source": [
    "# Display first few examples from the dataset\n",
    "print(\"Dataset sample:\")\n",
    "for i, example in enumerate(dataset['train'].select(range(3))):\n",
    "    print(f\"\\nExample {i+1}:\")\n",
    "    print(\"Instruction:\", example['instruction'])\n",
    "    print(\"Output:\", example['output'])\n",
    "\n",
    "# Display dataset info\n",
    "print(\"\\nDataset info:\")\n",
    "print(dataset['train'])\n",
    "\n"
   ]
  }
 ],
 "metadata": {
  "kernelspec": {
   "display_name": "minhua_vllm",
   "language": "python",
   "name": "python3"
  },
  "language_info": {
   "codemirror_mode": {
    "name": "ipython",
    "version": 3
   },
   "file_extension": ".py",
   "mimetype": "text/x-python",
   "name": "python",
   "nbconvert_exporter": "python",
   "pygments_lexer": "ipython3",
   "version": "3.10.16"
  }
 },
 "nbformat": 4,
 "nbformat_minor": 2
}
